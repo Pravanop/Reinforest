{
 "cells": [
  {
   "cell_type": "code",
   "execution_count": 1,
   "metadata": {},
   "outputs": [],
   "source": [
    "import matplotlib.pyplot as plt\n",
    "import networkx as nx\n",
    "import numpy as np\n",
    "from graph_nets import utils_np\n",
    "import tensorflow as tf\n",
    "import pickle"
   ]
  },
  {
   "cell_type": "code",
   "execution_count": 15,
   "metadata": {},
   "outputs": [],
   "source": [
    "import time"
   ]
  },
  {
   "cell_type": "code",
   "execution_count": 2,
   "metadata": {},
   "outputs": [],
   "source": [
    "def print_graphs_tuple(graphs_tuple):\n",
    "    print(\"Shapes of `GraphsTuple`'s fields:\")\n",
    "    print(graphs_tuple.map(lambda x: x if x is None else x.shape, fields=graphs.ALL_FIELDS))\n",
    "    print(\"\\nData contained in `GraphsTuple`'s fields:\")\n",
    "    print(\"globals:\\n{}\".format(graphs_tuple.globals))\n",
    "    print(\"nodes:\\n{}\".format(graphs_tuple.nodes))\n",
    "    print(\"edges:\\n{}\".format(graphs_tuple.edges))\n",
    "    print(\"senders:\\n{}\".format(graphs_tuple.senders))\n",
    "    print(\"receivers:\\n{}\".format(graphs_tuple.receivers))\n",
    "    print(\"n_node:\\n{}\".format(graphs_tuple.n_node))\n",
    "    print(\"n_edge:\\n{}\".format(graphs_tuple.n_edge))"
   ]
  },
  {
   "cell_type": "code",
   "execution_count": 13,
   "metadata": {},
   "outputs": [],
   "source": [
    "object_feat_vector=open('object_feat_vector','rb')\n",
    "object_feat=pickle.load(object_feat_vector)\n",
    "object_feat_vector.close()\n",
    "\n",
    "word_feat_vector=open('word_feat_vector','rb')\n",
    "word_feat=pickle.load(word_feat_vector)\n",
    "word_feat_vector.close()\n",
    "\n",
    "emo_feat_vector=open('emo_feat_vector','rb')\n",
    "emo_feat=pickle.load(emo_feat_vector)\n",
    "emo_feat_vector.close()"
   ]
  },
  {
   "cell_type": "code",
   "execution_count": 14,
   "metadata": {},
   "outputs": [
    {
     "name": "stdout",
     "output_type": "stream",
     "text": [
      "(1, 4) (1, 1) (1, 100)\n"
     ]
    },
    {
     "data": {
      "text/plain": [
       "(1, 105)"
      ]
     },
     "execution_count": 14,
     "metadata": {},
     "output_type": "execute_result"
    }
   ],
   "source": [
    "object_feat=np.asarray(object_feat)\n",
    "object_feat=object_feat.reshape(1,object_feat.shape[0])\n",
    "emo_feat=np.asarray(emo_feat)\n",
    "emo_feat=emo_feat.reshape(1,emo_feat.shape[0])\n",
    "vector_temp=np.concatenate((object_feat,emo_feat),axis=1)\n",
    "ultimate_feat=np.concatenate((vector_temp,word_feat),axis=1)"
   ]
  },
  {
   "cell_type": "code",
   "execution_count": 17,
   "metadata": {},
   "outputs": [],
   "source": [
    "G = nx.Graph()\n",
    "G.add_node(0, time='8am',action='Wake up',features=ultimate_feat)"
   ]
  },
  {
   "cell_type": "code",
   "execution_count": 16,
   "metadata": {},
   "outputs": [],
   "source": [
    "temp=42\n",
    "while True:\n",
    "    if (ultimate_feat[0] == temp):\n",
    "        continue\n",
    "    else:\n",
    "        G.add_node(features=ultimate_feat)\n",
    "        temp=ultimate_feat[0]  "
   ]
  },
  {
   "cell_type": "code",
   "execution_count": null,
   "metadata": {},
   "outputs": [],
   "source": []
  }
 ],
 "metadata": {
  "kernelspec": {
   "display_name": "Python 3",
   "language": "python",
   "name": "python3"
  },
  "language_info": {
   "codemirror_mode": {
    "name": "ipython",
    "version": 3
   },
   "file_extension": ".py",
   "mimetype": "text/x-python",
   "name": "python",
   "nbconvert_exporter": "python",
   "pygments_lexer": "ipython3",
   "version": "3.7.6"
  }
 },
 "nbformat": 4,
 "nbformat_minor": 4
}
