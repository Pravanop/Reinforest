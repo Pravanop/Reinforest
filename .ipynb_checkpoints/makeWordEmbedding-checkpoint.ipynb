{
 "cells": [
  {
   "cell_type": "code",
   "execution_count": 10,
   "metadata": {},
   "outputs": [],
   "source": [
    "import numpy as np\n",
    "import pandas as pd\n",
    "import nltk\n",
    "#nltk.download('punkt') \n",
    "#nltk.download('stopwords')\n",
    "import re\n",
    "import time\n",
    "import pickle\n",
    "from nltk.tokenize import word_tokenize"
   ]
  },
  {
   "cell_type": "code",
   "execution_count": 2,
   "metadata": {},
   "outputs": [],
   "source": [
    "# Extract word vectors\n",
    "\n",
    "def wordEmbeddings():  \n",
    "    word_embeddings = {}\n",
    "    f = open('glove.6B.100d.txt', encoding='utf-8')\n",
    "    for line in f:\n",
    "        values = line.split()\n",
    "        word = values[0]\n",
    "        coefs = np.asarray(values[1:], dtype='float32')\n",
    "        word_embeddings[word] = coefs\n",
    "    f.close()\n",
    "    return word_embeddings"
   ]
  },
  {
   "cell_type": "code",
   "execution_count": 3,
   "metadata": {},
   "outputs": [],
   "source": [
    "# function to remove stopwords\n",
    "def remove_stopwords(sen):\n",
    "    from nltk.corpus import stopwords\n",
    "    stop_words = stopwords.words('english')\n",
    "    sen_new = \" \".join([i for i in sen if i not in stop_words])\n",
    "    return sen_new"
   ]
  },
  {
   "cell_type": "code",
   "execution_count": 4,
   "metadata": {},
   "outputs": [],
   "source": [
    "#TEXT PREPROCESSING\n",
    "def preprocess(sample):\n",
    "    # remove punctuations and special characters\n",
    "    clean_sample = re.sub('\\W+',' ', sample )\n",
    "    # make alphabets lowercase\n",
    "    clean_sample=clean_sample.lower()\n",
    "    #remove stopwords\n",
    "    clean_sample= remove_stopwords(clean_sample.split())\n",
    "    return clean_sample\n"
   ]
  },
  {
   "cell_type": "code",
   "execution_count": 5,
   "metadata": {},
   "outputs": [],
   "source": [
    "def wordEmbedding(sample):\n",
    "    word_embeddings=wordEmbeddings()\n",
    "    clean_sample=preprocess(sample)\n",
    "    words=[]\n",
    "    for word in clean_sample.split():\n",
    "        words.append(word)\n",
    "    word_embedding_list={}\n",
    "    for word in words:\n",
    "        word_embedding_list[word]=word_embeddings[word].reshape(1,100)\n",
    "    return word_embedding_list"
   ]
  },
  {
   "cell_type": "code",
   "execution_count": 6,
   "metadata": {},
   "outputs": [],
   "source": [
    "def sentenceVector(word_embedding_list):\n",
    "    sentence_vector=np.zeros((1, 100))\n",
    "    for key,value in word_embedding_list.items():\n",
    "        sentence_vector=sentence_vector+value\n",
    "    sentence_vector=sentence_vector/len(word_embedding_list)\n",
    "    return sentence_vector"
   ]
  },
  {
   "cell_type": "code",
   "execution_count": 7,
   "metadata": {},
   "outputs": [],
   "source": [
    "def getSentenceVector(sample):\n",
    "    word_embedding_list=wordEmbedding(sample) \n",
    "    sentence_vector=sentenceVector(word_embedding_list)\n",
    "    return sentence_vector"
   ]
  },
  {
   "cell_type": "code",
   "execution_count": 11,
   "metadata": {},
   "outputs": [],
   "source": [
    "#word_vector=getSentenceVector('This is a picture of a potato.')\n",
    "sentence_vector=np.zeros((1, 100))\n",
    "with open('word_feat_vector','wb') as f:\n",
    "        pickle.dump(sentence_vector,f)"
   ]
  },
  {
   "cell_type": "code",
   "execution_count": null,
   "metadata": {},
   "outputs": [],
   "source": []
  }
 ],
 "metadata": {
  "kernelspec": {
   "display_name": "Python 3",
   "language": "python",
   "name": "python3"
  },
  "language_info": {
   "codemirror_mode": {
    "name": "ipython",
    "version": 3
   },
   "file_extension": ".py",
   "mimetype": "text/x-python",
   "name": "python",
   "nbconvert_exporter": "python",
   "pygments_lexer": "ipython3",
   "version": "3.7.6"
  }
 },
 "nbformat": 4,
 "nbformat_minor": 2
}
