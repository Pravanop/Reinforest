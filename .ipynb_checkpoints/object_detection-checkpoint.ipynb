{
 "cells": [
  {
   "cell_type": "code",
   "execution_count": 1,
   "metadata": {},
   "outputs": [],
   "source": [
    "import pickle\n",
    "import json"
   ]
  },
  {
   "cell_type": "code",
   "execution_count": 2,
   "metadata": {},
   "outputs": [],
   "source": [
    "import scipy.spatial.distance as dist"
   ]
  },
  {
   "cell_type": "code",
   "execution_count": 3,
   "metadata": {},
   "outputs": [],
   "source": [
    "import cv2\n",
    "import argparse\n",
    "import numpy as np"
   ]
  },
  {
   "cell_type": "code",
   "execution_count": 14,
   "metadata": {},
   "outputs": [],
   "source": [
    "path='state_test1.jpeg'"
   ]
  },
  {
   "cell_type": "code",
   "execution_count": 5,
   "metadata": {},
   "outputs": [],
   "source": [
    "def get_output_layers(net):\n",
    "    layer_names = net.getLayerNames()\n",
    "    output_layers = [layer_names[i[0] - 1] for i in net.getUnconnectedOutLayers()]\n",
    "    return output_layers"
   ]
  },
  {
   "cell_type": "code",
   "execution_count": 6,
   "metadata": {},
   "outputs": [],
   "source": [
    "def draw_prediction(img, class_id, confidence, x, y, x_plus_w, y_plus_h):\n",
    "    label = str(classes[class_id])\n",
    "    color = COLORS[class_id]\n",
    "    cv2.rectangle(img, (x,y), (x_plus_w,y_plus_h), color, 2)\n",
    "    cv2.putText(img, label, (x-10,y-10), cv2.FONT_HERSHEY_SIMPLEX, 0.5, color, 2)"
   ]
  },
  {
   "cell_type": "code",
   "execution_count": 16,
   "metadata": {},
   "outputs": [],
   "source": [
    "def object_detector(path,classes):\n",
    "    image = cv2.imread(path)\n",
    "    Width = image.shape[1]\n",
    "    Height = image.shape[0]\n",
    "    scale = 0.00392\n",
    "    COLORS = np.random.uniform(0, 255, size=(len(classes), 3))\n",
    "    WEIGHT=r'yolov3.weights'\n",
    "    CONFIG=r'yolov3.cfg'\n",
    "    net = cv2.dnn.readNet(WEIGHT,CONFIG )\n",
    "    blob = cv2.dnn.blobFromImage(image, scale, (416,416), (0,0,0), True, crop=False)\n",
    "    net.setInput(blob)\n",
    "    outs = net.forward(get_output_layers(net))\n",
    "    class_ids = []\n",
    "    confidences = []\n",
    "    boxes = []\n",
    "    conf_threshold = 0.5\n",
    "    nms_threshold = 0.4\n",
    "    for out in outs:\n",
    "        for detection in out:\n",
    "            scores = detection[5:]\n",
    "            class_id = np.argmax(scores)\n",
    "            confidence = scores[class_id]\n",
    "            if confidence > 0.5:\n",
    "                center_x = int(detection[0] * Width)\n",
    "                center_y = int(detection[1] * Height)\n",
    "                w = int(detection[2] * Width)\n",
    "                h = int(detection[3] * Height)\n",
    "                x = center_x - w / 2\n",
    "                y = center_y - h / 2\n",
    "                class_ids.append(class_id)\n",
    "                confidences.append(float(confidence))\n",
    "                boxes.append([x, y, w, h])\n",
    "    return boxes,class_ids"
   ]
  },
  {
   "cell_type": "code",
   "execution_count": 25,
   "metadata": {},
   "outputs": [],
   "source": [
    "class object_type():\n",
    "    def __init__(self,centre,landmark_coordinates,classid):\n",
    "        self.classid=classid\n",
    "        self.centre=centre\n",
    "        self.landmark_coordinates=landmark_coordinates\n",
    "        self.distance=self.echo_locator(self.centre,self.landmark_coordinates)\n",
    "        self.state=self.state_determiner(self.centre,self.landmark_coordinates)\n",
    "    def echo_locator(self,centre,landmark_coordinates):\n",
    "        distance=0\n",
    "        for i in range(len(landmark_coordinates)):\n",
    "            distance += dist.euclidean(centre,landmark_coordinates[i])\n",
    "        distance=distance/i\n",
    "        return distance \n",
    "    def state_determiner(self,centre,landmark_coordinates):\n",
    "        distance_close=0\n",
    "        state=0\n",
    "        for i in range(len(landmark_coordinates)):\n",
    "            distance_temp=dist.euclidean(centre,landmark_coordinates[i])\n",
    "            if(distance_close>distance_temp):\n",
    "                distance_close=distance_temp\n",
    "                state=i\n",
    "            else:\n",
    "                continue\n",
    "        return state   "
   ]
  },
  {
   "cell_type": "code",
   "execution_count": 29,
   "metadata": {},
   "outputs": [],
   "source": [
    "def object_initiator(path,class_type,landmark_coordinates):\n",
    "    classes = None\n",
    "    CLASSES_FILE=r'yolov3.txt'\n",
    "    with open(CLASSES_FILE, 'r') as f:\n",
    "        classes = [line.strip() for line in f.readlines()]\n",
    "    object_dict={}\n",
    "    boxes,class_ids=object_detector(path,classes)\n",
    "    for i in range(len(boxes)):\n",
    "        index=int(class_ids[i])\n",
    "        if(classes[index]=='bed' or classes[index]=='chair'):\n",
    "            continue\n",
    "        else:\n",
    "            temp=classes[class_ids[i]]\n",
    "            object_dict[temp]=class_type((boxes[i][0],boxes[i][1]),landmark_coordinates,index)\n",
    "    return object_dict,classes           "
   ]
  },
  {
   "cell_type": "code",
   "execution_count": 26,
   "metadata": {},
   "outputs": [],
   "source": [
    "landmark=open('landmark','rb')\n",
    "landmark_coordinates=pickle.load(landmark)\n",
    "landmark.close()"
   ]
  },
  {
   "cell_type": "code",
   "execution_count": 38,
   "metadata": {},
   "outputs": [],
   "source": [
    "#THE MAIN FUNCTION\n",
    "def feat_vector_updater(path,class_type,landmark_coordinates):\n",
    "    object_dict,classes=object_initiator(path,object_type,landmark_coordinates)\n",
    "    flag=0\n",
    "    for key in object_dict:\n",
    "        if(key=='person'):\n",
    "            feat_vector=[]\n",
    "            feat_vector.append(object_dict[key].state)\n",
    "            feat_vector.append(object_dict[key].distance)\n",
    "            feat_vector.append(object_dict[key].classid)\n",
    "            flag=1\n",
    "        else:\n",
    "            continue       \n",
    "    if(flag==0):\n",
    "        feat_vector=[]\n",
    "        feat_vector.append(42)\n",
    "        for key in object_dict:\n",
    "            feat_vector.append(object_dict[key].state)\n",
    "            feat_vector.append(object_dict[key].distance)\n",
    "            feat_vector.append(object_dict[key].classid)\n",
    "    else:\n",
    "        for key in object_dict:\n",
    "            if(key=='person'):\n",
    "                continue\n",
    "            else:\n",
    "                feat_vector.append(object_dict[key].state)\n",
    "                feat_vector.append(object_dict[key].distance)\n",
    "                feat_vector.append(object_dict[key].classid)\n",
    "    with open('object_feat_vector','wb') as f:\n",
    "        pickle.dump(feat_vector,f)\n",
    "    return 0"
   ]
  }
 ],
 "metadata": {
  "kernelspec": {
   "display_name": "Python 3",
   "language": "python",
   "name": "python3"
  },
  "language_info": {
   "codemirror_mode": {
    "name": "ipython",
    "version": 3
   },
   "file_extension": ".py",
   "mimetype": "text/x-python",
   "name": "python",
   "nbconvert_exporter": "python",
   "pygments_lexer": "ipython3",
   "version": "3.7.6"
  }
 },
 "nbformat": 4,
 "nbformat_minor": 4
}
