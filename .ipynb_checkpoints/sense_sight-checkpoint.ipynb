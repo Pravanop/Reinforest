{
 "cells": [
  {
   "cell_type": "code",
   "execution_count": 2,
   "metadata": {},
   "outputs": [],
   "source": [
    "import text_detection as TD"
   ]
  },
  {
   "cell_type": "code",
   "execution_count": 3,
   "metadata": {},
   "outputs": [],
   "source": [
    "import object_detection as OD"
   ]
  },
  {
   "cell_type": "code",
   "execution_count": 4,
   "metadata": {},
   "outputs": [],
   "source": [
    "import face_recognition as FR"
   ]
  },
  {
   "cell_type": "code",
   "execution_count": 5,
   "metadata": {},
   "outputs": [],
   "source": [
    "import cv2"
   ]
  },
  {
   "cell_type": "code",
   "execution_count": 11,
   "metadata": {},
   "outputs": [],
   "source": [
    "path='tempsnip.png'\n",
    "image = cv2.imread(path) \n",
    "text,startX_fr,startY_fr,endX_fr,endY_fr=FR.face_recognizer(path)\n",
    "cv2.rectangle(image, (startX_fr, startY_fr), (endX_fr, endY_fr), 2)\n",
    "y_fr = startY_fr - 15 if startY_fr - 15 > 15 else startY_fr + 15\n",
    "cv2.putText(image,text,(startX_fr, y_fr),cv2.FONT_HERSHEY_SIMPLEX, 0.5, 2)\n",
    "label_list,boxes=OD.object_detector(path)\n",
    "for i in range(len(boxes)):\n",
    "    cv2.rectangle(image, (boxes[i][0], boxes[i][1]), (boxes[i][2], boxes[i][3]), 2)\n",
    "    y = boxes[i][1] - 15 if boxes[i][1] - 15 > 15 else boxes[i][1] + 15\n",
    "    cv2.putText(image,label_list[i],(boxes[i][0], y),cv2.FONT_HERSHEY_SIMPLEX, 0.5, 2)\n",
    "text_td,boxes_td=TD.text_detection(path)\n",
    "for i in range(len(boxes_td)):\n",
    "    cv2.rectangle(image, (boxes_td[i][0], boxes_td[i][1]), (boxes_td[i][2], boxes_td[i][3]), 2)\n",
    "    y = boxes_td[i][1] - 15 if boxes_td[i][1] - 15 > 15 else boxes_td[i][1] + 15\n"
   ]
  },
  {
   "cell_type": "code",
   "execution_count": null,
   "metadata": {},
   "outputs": [],
   "source": [
    "cv2.imshow(\"Output\", image)\n",
    "cv2.waitKey(0)\n",
    "cv2.destroyAllWindows()"
   ]
  },
  {
   "cell_type": "code",
   "execution_count": null,
   "metadata": {},
   "outputs": [],
   "source": []
  }
 ],
 "metadata": {
  "kernelspec": {
   "display_name": "Python 3",
   "language": "python",
   "name": "python3"
  },
  "language_info": {
   "codemirror_mode": {
    "name": "ipython",
    "version": 3
   },
   "file_extension": ".py",
   "mimetype": "text/x-python",
   "name": "python",
   "nbconvert_exporter": "python",
   "pygments_lexer": "ipython3",
   "version": "3.7.6"
  }
 },
 "nbformat": 4,
 "nbformat_minor": 4
}
